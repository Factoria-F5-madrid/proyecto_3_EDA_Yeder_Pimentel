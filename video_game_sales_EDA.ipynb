{
 "cells": [
  {
   "cell_type": "markdown",
   "id": "2b0c45fb",
   "metadata": {},
   "source": [
    "# Exploratory Data Analysis — Video Game Sales with Ratings\n",
    "\n",
    "**Dataset**: [rush4ratio / Video Game Sales with Ratings]  \n",
    "**Objetivo**: preparar datos limpios, visualizar patrones clave y extraer conclusiones ejecutivas para el CEO.\n",
    "\n",
    "> **Cómo usar**: Coloca el CSV del dataset en `/mnt/data/` y ejecuta las celdas en orden.  \n",
    "> Este notebook **no usa seaborn** (requisito de presentación) y se apoya en **pandas** y **matplotlib**."
   ]
  },
  {
   "cell_type": "code",
   "execution_count": 2,
   "id": "4e0cea5a",
   "metadata": {},
   "outputs": [
    {
     "name": "stdout",
     "output_type": "stream",
     "text": [
      "Versions -> pandas: 2.3.2 | numpy: 2.3.2\n"
     ]
    }
   ],
   "source": [
    "# Librerías a usar\n",
    "import os\n",
    "import sys\n",
    "import math\n",
    "import json\n",
    "import warnings\n",
    "warnings.filterwarnings('ignore')\n",
    "\n",
    "import pandas as pd\n",
    "import numpy as np\n",
    "import matplotlib.pyplot as plt\n",
    "\n",
    "pd.set_option(\"display.max_columns\", 100)\n",
    "pd.set_option(\"display.width\", 120)\n",
    "print(\"Versions -> pandas:\", pd.__version__, \"| numpy:\", np.__version__)"
   ]
  },
  {
   "cell_type": "markdown",
   "id": "30ddf13e",
   "metadata": {},
   "source": [
    "## 1) Carga de datos"
   ]
  },
  {
   "cell_type": "code",
   "execution_count": 6,
   "id": "088abf9d",
   "metadata": {},
   "outputs": [
    {
     "name": "stdout",
     "output_type": "stream",
     "text": [
      "✅ Archivoo detectado: data\\Video_Games_Sales_as_at_22_Dec_2016.csv\n"
     ]
    }
   ],
   "source": [
    "from pathlib import Path\n",
    "\n",
    "# Soporta varios nombres comunes del archivo en este dataset\n",
    "candidate_files = [\n",
    "    \"Video_Games_Sales_as_at_22_Dec_2016.csv\",\n",
    "    \"Video_Games_Sales_as_at_22_Dec_2016.csv.zip\",\n",
    "    \"vgsales.csv\",\n",
    "    \"vgsales-with-ratings.csv\"\n",
    "]\n",
    "\n",
    "data_path = None\n",
    "for name in candidate_files:\n",
    "    p = Path(\"data/\") / name\n",
    "    if p.exists():\n",
    "        data_path = p\n",
    "        break\n",
    "\n",
    "if data_path is None:\n",
    "    print(\"❗ Noo se encontró el CSV. Copia el archivo en /mnt/data y re-ejecuta esta celda.\")\n",
    "else:\n",
    "    print(\"✅ Archivoo detectado:\", data_path)"
   ]
  },
  {
   "cell_type": "markdown",
   "id": "738c033d",
   "metadata": {},
   "source": [
    "## 2) Exploración inicial"
   ]
  },
  {
   "cell_type": "code",
   "execution_count": 7,
   "id": "ac0ca665",
   "metadata": {},
   "outputs": [],
   "source": [
    "if 'df' in globals():\n",
    "    # Nombres y tipos\n",
    "    display(pd.DataFrame({\n",
    "        \"column\": df.columns,\n",
    "        \"dtype\": [df[c].dtype for c in df.columns],\n",
    "        \"n_null\": [df[c].isna().sum() for c in df.columns],\n",
    "        \"n_unique\": [df[c].nunique(dropna=True) for c in df.columns]\n",
    "    }))\n",
    "\n",
    "    # Vista rápida de estadísticas numéricas\n",
    "    display(df.describe(include=[np.number]).T)\n",
    "\n",
    "    # Vista de categóricas\n",
    "    cat_cols = [c for c in df.columns if df[c].dtype == \"object\"]\n",
    "    display(df[cat_cols].describe().T)"
   ]
  },
  {
   "cell_type": "markdown",
   "id": "f1b18aa2",
   "metadata": {},
   "source": [
    "## 3) Limpieza y preprocesado"
   ]
  },
  {
   "cell_type": "code",
   "execution_count": 8,
   "id": "a64c0f2d",
   "metadata": {},
   "outputs": [
    {
     "name": "stderr",
     "output_type": "stream",
     "text": [
      "<>:8: SyntaxWarning: invalid escape sequence '\\s'\n",
      "<>:8: SyntaxWarning: invalid escape sequence '\\s'\n",
      "C:\\Users\\yeder\\AppData\\Local\\Temp\\ipykernel_21160\\4137126519.py:8: SyntaxWarning: invalid escape sequence '\\s'\n",
      "  .str.replace(\"\\s+\", \"_\", regex=True)\n"
     ]
    }
   ],
   "source": [
    "if 'df' in globals():\n",
    "    df_clean = df.copy()\n",
    "\n",
    "    # Estandarizar nombres de columnas (lowercase, snake_case)\n",
    "    df_clean.columns = (\n",
    "        df_clean.columns\n",
    "        .str.strip()\n",
    "        .str.replace(\"\\s+\", \"_\", regex=True)\n",
    "        .str.replace(\"[^0-9a-zA-Z_]\", \"\", regex=True)\n",
    "        .str.lower()\n",
    "    )\n",
    "\n",
    "    # Renombrados útiles si existen\n",
    "    rename_map = {\n",
    "        \"name\": \"title\",\n",
    "        \"platform\": \"platform\",\n",
    "        \"year_of_release\": \"year\",\n",
    "        \"genre\": \"genre\",\n",
    "        \"publisher\": \"publisher\",\n",
    "        \"na_sales\": \"na_sales\",\n",
    "        \"eu_sales\": \"eu_sales\",\n",
    "        \"jp_sales\": \"jp_sales\",\n",
    "        \"other_sales\": \"other_sales\",\n",
    "        \"global_sales\": \"global_sales\",\n",
    "        \"critic_score\": \"critic_score\",\n",
    "        \"critic_count\": \"critic_count\",\n",
    "        \"user_score\": \"user_score\",\n",
    "        \"user_count\": \"user_count\",\n",
    "        \"developer\": \"developer\",\n",
    "        \"rating\": \"esrb_rating\"\n",
    "    }\n",
    "    df_clean = df_clean.rename(columns={k:v for k,v in rename_map.items() if k in df_clean.columns})\n",
    "\n",
    "    # Limpiar año\n",
    "    if \"year\" in df_clean.columns:\n",
    "        # Algunos años vienen como float o con NaN\n",
    "        def coerce_year(x):\n",
    "            try:\n",
    "                y = int(float(x))\n",
    "                return np.nan if y < 1970 or y > 2030 else y\n",
    "            except:\n",
    "                return np.nan\n",
    "        df_clean[\"year\"] = df_clean[\"year\"].apply(coerce_year)\n",
    "\n",
    "    # Normalizar plataforma (ej: 'PS4', 'PlayStation 4' -> 'PS4')\n",
    "    if \"platform\" in df_clean.columns:\n",
    "        platform_map = {\n",
    "            \"PlayStation 4\": \"PS4\",\n",
    "            \"PlayStation 3\": \"PS3\",\n",
    "            \"PlayStation 2\": \"PS2\",\n",
    "            \"PlayStation\": \"PS1\",\n",
    "            \"Xbox 360\": \"X360\",\n",
    "            \"Xbox One\": \"XOne\",\n",
    "            \"Nintendo DS\": \"DS\",\n",
    "            \"Nintendo 3DS\": \"3DS\",\n",
    "            \"Nintendo Switch\": \"NS\"\n",
    "        }\n",
    "        df_clean[\"platform\"] = df_clean[\"platform\"].replace(platform_map)\n",
    "        df_clean[\"platform\"] = df_clean[\"platform\"].astype(str).str.upper().str.strip()\n",
    "\n",
    "    # User score a numérico si está en escala 0-10 (a veces viene como string 'tbd')\n",
    "    if \"user_score\" in df_clean.columns:\n",
    "        def parse_user_score(x):\n",
    "            try:\n",
    "                v = float(x)\n",
    "                return v\n",
    "            except:\n",
    "                return np.nan\n",
    "        df_clean[\"user_score\"] = df_clean[\"user_score\"].apply(parse_user_score)\n",
    "\n",
    "    # Cálculo de ventas limpias\n",
    "    for c in [\"na_sales\", \"eu_sales\", \"jp_sales\", \"other_sales\", \"global_sales\"]:\n",
    "        if c in df_clean.columns:\n",
    "            df_clean[c] = pd.to_numeric(df_clean[c], errors=\"coerce\")\n",
    "\n",
    "    # Eliminar duplicados exactos\n",
    "    before = len(df_clean)\n",
    "    df_clean = df_clean.drop_duplicates()\n",
    "    removed_dups = before - len(df_clean)\n",
    "\n",
    "    print(f\"Limpieza realizada. Duplicados eliminados: {removed_dups}. Filas actuales: {len(df_clean)}\")\n",
    "    display(df_clean.head())"
   ]
  },
  {
   "cell_type": "markdown",
   "id": "158e5528",
   "metadata": {},
   "source": [
    "## 4) Análisis exploratorio (EDA)"
   ]
  },
  {
   "cell_type": "code",
   "execution_count": null,
   "id": "ce831c7e",
   "metadata": {},
   "outputs": [],
   "source": [
    "if 'df_clean' in globals():\n",
    "    # Distribución por año\n",
    "    if \"year\" in df_clean.columns:\n",
    "        year_counts = df_clean['year'].dropna().astype(int).value_counts().sort_index()\n",
    "        display(year_counts.head())\n",
    "\n",
    "        plt.figure(figsize=(10,5))\n",
    "        year_counts.plot(kind='bar')\n",
    "        plt.title(\"Número de lanzamientos por año\")\n",
    "        plt.xlabel(\"Año\")\n",
    "        plt.ylabel(\"Número de juegos\")\n",
    "        plt.xticks(rotation=45)\n",
    "        plt.tight_layout()\n",
    "        plt.show()"
   ]
  },
  {
   "cell_type": "code",
   "execution_count": null,
   "id": "2aa97d76",
   "metadata": {},
   "outputs": [],
   "source": [
    "if 'df_clean' in globals() and set([\"platform\",\"global_sales\"]).issubset(df_clean.columns):\n",
    "    top_platforms = (\n",
    "        df_clean.groupby(\"platform\")[\"global_sales\"]\n",
    "        .sum()\n",
    "        .sort_values(ascending=False)\n",
    "        .head(15)\n",
    "    )\n",
    "    display(top_platforms)\n",
    "\n",
    "    plt.figure(figsize=(10,5))\n",
    "    top_platforms.plot(kind='bar')\n",
    "    plt.title(\"Top plataformas por ventas globales (M de copias)\")\n",
    "    plt.xlabel(\"Plataforma\")\n",
    "    plt.ylabel(\"Ventas globales (millones)\")\n",
    "    plt.xticks(rotation=45)\n",
    "    plt.tight_layout()\n",
    "    plt.show()"
   ]
  },
  {
   "cell_type": "code",
   "execution_count": null,
   "id": "ca834b39",
   "metadata": {},
   "outputs": [],
   "source": [
    "if 'df_clean' in globals() and set([\"genre\",\"global_sales\"]).issubset(df_clean.columns):\n",
    "    genre_sales = (\n",
    "        df_clean.groupby(\"genre\")[\"global_sales\"]\n",
    "        .sum()\n",
    "        .sort_values(ascending=False)\n",
    "    )\n",
    "    display(genre_sales)\n",
    "\n",
    "    plt.figure(figsize=(8,5))\n",
    "    genre_sales.plot(kind='bar')\n",
    "    plt.title(\"Ventas globales por género (M de copias)\")\n",
    "    plt.xlabel(\"Género\")\n",
    "    plt.ylabel(\"Ventas globales (millones)\")\n",
    "    plt.xticks(rotation=45)\n",
    "    plt.tight_layout()\n",
    "    plt.show()"
   ]
  },
  {
   "cell_type": "code",
   "execution_count": null,
   "id": "5803619e",
   "metadata": {},
   "outputs": [],
   "source": [
    "if 'df_clean' in globals() and set([\"publisher\",\"global_sales\"]).issubset(df_clean.columns):\n",
    "    top_publishers = (\n",
    "        df_clean.groupby(\"publisher\")[\"global_sales\"]\n",
    "        .sum()\n",
    "        .sort_values(ascending=False)\n",
    "        .head(15)\n",
    "    )\n",
    "    display(top_publishers)\n",
    "\n",
    "    plt.figure(figsize=(10,5))\n",
    "    top_publishers.plot(kind='bar')\n",
    "    plt.title(\"Top 15 publishers por ventas globales (M de copias)\")\n",
    "    plt.xlabel(\"Publisher\")\n",
    "    plt.ylabel(\"Ventas globales (millones)\")\n",
    "    plt.xticks(rotation=45)\n",
    "    plt.tight_layout()\n",
    "    plt.show()"
   ]
  },
  {
   "cell_type": "code",
   "execution_count": null,
   "id": "3aa073fb",
   "metadata": {},
   "outputs": [],
   "source": [
    "if 'df_clean' in globals() and set([\"critic_score\",\"user_score\",\"global_sales\"]).issubset(df_clean.columns):\n",
    "    # Correlaciones numéricas\n",
    "    num_cols = df_clean.select_dtypes(include=[np.number]).columns\n",
    "    corr = df_clean[num_cols].corr()\n",
    "    display(corr)\n",
    "\n",
    "    plt.figure(figsize=(8,6))\n",
    "    plt.imshow(corr, interpolation='nearest', aspect='auto')\n",
    "    plt.title(\"Matriz de correlación (numérica)\")\n",
    "    plt.xticks(range(len(num_cols)), num_cols, rotation=90)\n",
    "    plt.yticks(range(len(num_cols)), num_cols)\n",
    "    plt.colorbar()\n",
    "    plt.tight_layout()\n",
    "    plt.show()\n",
    "\n",
    "    # Relación puntuaciones vs ventas\n",
    "    plt.figure(figsize=(6,5))\n",
    "    plt.scatter(df_clean[\"critic_score\"], df_clean[\"global_sales\"])\n",
    "    plt.xlabel(\"Critic Score\")\n",
    "    plt.ylabel(\"Global Sales (M)\")\n",
    "    plt.title(\"Critic Score vs Ventas Globales\")\n",
    "    plt.tight_layout()\n",
    "    plt.show()\n",
    "\n",
    "    plt.figure(figsize=(6,5))\n",
    "    plt.scatter(df_clean[\"user_score\"], df_clean[\"global_sales\"])\n",
    "    plt.xlabel(\"User Score\")\n",
    "    plt.ylabel(\"Global Sales (M)\")\n",
    "    plt.title(\"User Score vs Ventas Globales\")\n",
    "    plt.tight_layout()\n",
    "    plt.show()"
   ]
  },
  {
   "cell_type": "code",
   "execution_count": null,
   "id": "d2be0744",
   "metadata": {},
   "outputs": [],
   "source": [
    "if 'df_clean' in globals() and set([\"na_sales\",\"eu_sales\",\"jp_sales\",\"other_sales\"]).issubset(df_clean.columns):\n",
    "    region_cols = [\"na_sales\",\"eu_sales\",\"jp_sales\",\"other_sales\"]\n",
    "    region_totals = df_clean[region_cols].sum().sort_values(ascending=False)\n",
    "    display(region_totals)\n",
    "\n",
    "    plt.figure(figsize=(7,5))\n",
    "    region_totals.plot(kind='bar')\n",
    "    plt.title(\"Ventas totales por región (M de copias)\")\n",
    "    plt.xlabel(\"Región\")\n",
    "    plt.ylabel(\"Ventas (millones)\")\n",
    "    plt.tight_layout()\n",
    "    plt.show()"
   ]
  },
  {
   "cell_type": "markdown",
   "id": "fefb211f",
   "metadata": {},
   "source": [
    "## 5) Guardado de dataset limpio"
   ]
  }
 ],
 "metadata": {
  "kernelspec": {
   "display_name": ".venv",
   "language": "python",
   "name": "python3"
  },
  "language_info": {
   "codemirror_mode": {
    "name": "ipython",
    "version": 3
   },
   "file_extension": ".py",
   "mimetype": "text/x-python",
   "name": "python",
   "nbconvert_exporter": "python",
   "pygments_lexer": "ipython3",
   "version": "3.13.5"
  }
 },
 "nbformat": 4,
 "nbformat_minor": 5
}
